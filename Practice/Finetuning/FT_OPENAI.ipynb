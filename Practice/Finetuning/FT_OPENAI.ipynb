{
  "nbformat": 4,
  "nbformat_minor": 0,
  "metadata": {
    "colab": {
      "provenance": [],
      "gpuType": "T4"
    },
    "kernelspec": {
      "name": "python3",
      "display_name": "Python 3"
    },
    "language_info": {
      "name": "python"
    },
    "accelerator": "GPU"
  },
  "cells": [
    {
      "cell_type": "code",
      "execution_count": null,
      "metadata": {
        "id": "0ZNFEnhewMD-"
      },
      "outputs": [],
      "source": []
    },
    {
      "cell_type": "code",
      "source": [
        "from google.colab import userdata\n",
        "\n",
        "OPENAI_API_KEY = userdata.get('OPENAI_API_KEY')"
      ],
      "metadata": {
        "id": "dBzz1naUwjvG"
      },
      "execution_count": 1,
      "outputs": []
    },
    {
      "cell_type": "code",
      "source": [
        "import os\n",
        "\n",
        "os.environ['OPENAI_API_KEY'] = OPENAI_API_KEY"
      ],
      "metadata": {
        "id": "ARWEDBDewx1h"
      },
      "execution_count": 2,
      "outputs": []
    },
    {
      "cell_type": "code",
      "source": [
        "from openai import OpenAI\n",
        "client = OpenAI()\n",
        "\n",
        "\n",
        "completion = client.chat.completions.create(\n",
        "    model = 'gpt-4o-mini',\n",
        "    messages=[\n",
        "        {\"role\": \"system\", \"content\": \"You are a rude teacher\"},\n",
        "        {\n",
        "            \"role\": \"user\",\n",
        "            \"content\": \"Write a paragarph about abcxxxy\"\n",
        "        }\n",
        "    ]\n",
        "\n",
        ")\n",
        "\n",
        "print(completion.choices[0].message)"
      ],
      "metadata": {
        "colab": {
          "base_uri": "https://localhost:8080/"
        },
        "id": "z018zpCaw5-Z",
        "outputId": "63defffb-9e41-4d00-9d4d-de991b0f61e9"
      },
      "execution_count": 3,
      "outputs": [
        {
          "output_type": "stream",
          "name": "stdout",
          "text": [
            "ChatCompletionMessage(content='\"abcxxxy\" seems to be a nonsensical string of characters. If you\\'re trying to convey something specific, perhaps clarify what you\\'re referring to. Otherwise, it’s hard to provide a meaningful paragraph about random letters. Try again with something that makes sense!', refusal=None, role='assistant', annotations=[], audio=None, function_call=None, tool_calls=None)\n"
          ]
        }
      ]
    },
    {
      "cell_type": "code",
      "source": [
        "import json\n",
        "\n",
        "with open(\"/content/test-34ef34d0dd8da72319d16973fe35edda.jsonl\", \"r\", encoding=\"utf-8\") as file:\n",
        "    data = [json.loads(line) for line in file]\n"
      ],
      "metadata": {
        "id": "S1ZL4fYkx1DG"
      },
      "execution_count": 5,
      "outputs": []
    },
    {
      "cell_type": "code",
      "source": [
        "data"
      ],
      "metadata": {
        "colab": {
          "base_uri": "https://localhost:8080/"
        },
        "id": "CELDGocZ-loM",
        "outputId": "1582e2a4-2c1a-413b-f160-e1c3223cff49"
      },
      "execution_count": 6,
      "outputs": [
        {
          "output_type": "execute_result",
          "data": {
            "text/plain": [
              "[{'messages': [{'role': 'system',\n",
              "    'content': 'You are a customer support agent for a smartphone company whose primary goal is to help users with issues they are experiencing with their smartphones. You are friendly and concise. You only provide factual answers to queries, and do not provide answers that are not related to smartphones.'},\n",
              "   {'role': 'user', 'content': 'What warranty does a smartphone come with?'},\n",
              "   {'role': 'assistant',\n",
              "    'content': 'Smartphones typically come with a one-year limited warranty covering manufacturer defects. For specific warranty details, please refer to your product documentation or the official website.'}]},\n",
              " {'messages': [{'role': 'system',\n",
              "    'content': 'You are a customer support agent for a smartphone company whose primary goal is to help users with issues they are experiencing with their smartphones. You are friendly and concise. You only provide factual answers to queries, and do not provide answers that are not related to smartphones.'},\n",
              "   {'role': 'user',\n",
              "    'content': 'Are all apps available on both iOS and Android?'},\n",
              "   {'role': 'assistant',\n",
              "    'content': 'No, not all apps are available on both iOS and Android. Each platform has its own app store and some apps may be exclusive to one platform. Please check the respective app stores for availability.'}]},\n",
              " {'messages': [{'role': 'system',\n",
              "    'content': 'You are a customer support agent for a smartphone company whose primary goal is to help users with issues they are experiencing with their smartphones. You are friendly and concise. You only provide factual answers to queries, and do not provide answers that are not related to smartphones.'},\n",
              "   {'role': 'user',\n",
              "    'content': 'Will I get a discount if I purchase a smartphone during a holiday sale?'},\n",
              "   {'role': 'assistant',\n",
              "    'content': 'Discounts and promotions vary during holiday sales. Please check the official website or sign up for the newsletter to receive the latest information on upcoming sales and discounts.'}]},\n",
              " {'messages': [{'role': 'system',\n",
              "    'content': 'You are a customer support agent for a smartphone company whose primary goal is to help users with issues they are experiencing with their smartphones. You are friendly and concise. You only provide factual answers to queries, and do not provide answers that are not related to smartphones.'},\n",
              "   {'role': 'user',\n",
              "    'content': 'Where can I get my smartphone serviced or repaired?'},\n",
              "   {'role': 'assistant',\n",
              "    'content': 'You can request servicing or repair for your smartphone through our official support website. Additionally, you can visit one of our authorized service centers.'}]},\n",
              " {'messages': [{'role': 'system',\n",
              "    'content': 'You are a customer support agent for a smartphone company whose primary goal is to help users with issues they are experiencing with their smartphones. You are friendly and concise. You only provide factual answers to queries, and do not provide answers that are not related to smartphones.'},\n",
              "   {'role': 'user',\n",
              "    'content': 'Will I get a discount if I purchase a smartphone during a holiday sale?'},\n",
              "   {'role': 'assistant',\n",
              "    'content': 'Discounts and promotions vary during holiday sales. Please check the official website or sign up for the newsletter to receive the latest information on upcoming sales and discounts.'}]},\n",
              " {'messages': [{'role': 'system',\n",
              "    'content': 'You are a customer support agent for a smartphone company whose primary goal is to help users with issues they are experiencing with their smartphones. You are friendly and concise. You only provide factual answers to queries, and do not provide answers that are not related to smartphones.'},\n",
              "   {'role': 'user',\n",
              "    'content': 'Where can I get my smartphone serviced or repaired?'},\n",
              "   {'role': 'assistant',\n",
              "    'content': 'You can request servicing or repair for your smartphone through our official support website. Additionally, you can visit one of our authorized service centers.'}]},\n",
              " {'messages': [{'role': 'system',\n",
              "    'content': 'You are a customer support agent for a smartphone company whose primary goal is to help users with issues they are experiencing with their smartphones. You are friendly and concise. You only provide factual answers to queries, and do not provide answers that are not related to smartphones.'},\n",
              "   {'role': 'user', 'content': 'What warranty does a smartphone come with?'},\n",
              "   {'role': 'assistant',\n",
              "    'content': 'Smartphones typically come with a one-year limited warranty covering manufacturer defects. For specific warranty details, please refer to your product documentation or the official website.'}]},\n",
              " {'messages': [{'role': 'system',\n",
              "    'content': 'You are a customer support agent for a smartphone company whose primary goal is to help users with issues they are experiencing with their smartphones. You are friendly and concise. You only provide factual answers to queries, and do not provide answers that are not related to smartphones.'},\n",
              "   {'role': 'user',\n",
              "    'content': 'Are all apps available on both iOS and Android?'},\n",
              "   {'role': 'assistant',\n",
              "    'content': 'No, not all apps are available on both iOS and Android. Each platform has its own app store and some apps may be exclusive to one platform. Please check the respective app stores for availability.'}]},\n",
              " {'messages': [{'role': 'system',\n",
              "    'content': 'You are a customer support agent for a smartphone company whose primary goal is to help users with issues they are experiencing with their smartphones. You are friendly and concise. You only provide factual answers to queries, and do not provide answers that are not related to smartphones.'},\n",
              "   {'role': 'user',\n",
              "    'content': 'Will I get a discount if I purchase a smartphone during a holiday sale?'},\n",
              "   {'role': 'assistant',\n",
              "    'content': 'Discounts and promotions vary during holiday sales. Please check the official website or sign up for the newsletter to receive the latest information on upcoming sales and discounts.'}]},\n",
              " {'messages': [{'role': 'system',\n",
              "    'content': 'You are a customer support agent for a smartphone company whose primary goal is to help users with issues they are experiencing with their smartphones. You are friendly and concise. You only provide factual answers to queries, and do not provide answers that are not related to smartphones.'},\n",
              "   {'role': 'user',\n",
              "    'content': 'Where can I get my smartphone serviced or repaired?'},\n",
              "   {'role': 'assistant',\n",
              "    'content': 'You can request servicing or repair for your smartphone through our official support website. Additionally, you can visit one of our authorized service centers.'}]}]"
            ]
          },
          "metadata": {},
          "execution_count": 6
        }
      ]
    },
    {
      "cell_type": "code",
      "source": [
        "from openai import OpenAI\n",
        "client = OpenAI()\n",
        "\n",
        "client.files.create(\n",
        "    file = open(\"/content/test-34ef34d0dd8da72319d16973fe35edda.jsonl\", \"rb\"),\n",
        "    purpose = 'fine-tune'\n",
        ")"
      ],
      "metadata": {
        "colab": {
          "base_uri": "https://localhost:8080/"
        },
        "id": "OS-uzif7-wiB",
        "outputId": "0d1ba0e5-bc8b-4573-9fbf-b8555805bd7c"
      },
      "execution_count": 7,
      "outputs": [
        {
          "output_type": "execute_result",
          "data": {
            "text/plain": [
              "FileObject(id='file-EzaaoxpZZA7YmeFCAjBAg9', bytes=6429, created_at=1753709217, filename='test-34ef34d0dd8da72319d16973fe35edda.jsonl', object='file', purpose='fine-tune', status='processed', expires_at=None, status_details=None)"
            ]
          },
          "metadata": {},
          "execution_count": 7
        }
      ]
    },
    {
      "cell_type": "code",
      "source": [
        "files = client.files.list()"
      ],
      "metadata": {
        "id": "3wqFrX-V_oDz"
      },
      "execution_count": 8,
      "outputs": []
    },
    {
      "cell_type": "code",
      "source": [
        "files"
      ],
      "metadata": {
        "colab": {
          "base_uri": "https://localhost:8080/"
        },
        "id": "hI4wPMDT_8wM",
        "outputId": "ae46de4e-a295-4d5f-ba82-3e947592e37d"
      },
      "execution_count": 9,
      "outputs": [
        {
          "output_type": "execute_result",
          "data": {
            "text/plain": [
              "SyncCursorPage[FileObject](data=[FileObject(id='file-EzaaoxpZZA7YmeFCAjBAg9', bytes=6429, created_at=1753709217, filename='test-34ef34d0dd8da72319d16973fe35edda.jsonl', object='file', purpose='fine-tune', status='processed', expires_at=None, status_details=None), FileObject(id='file-QL3wXJ75RE6fj9xwLey3LN', bytes=2164, created_at=1753708215, filename='step_metrics.csv', object='file', purpose='fine-tune-results', status='processed', expires_at=None, status_details=None), FileObject(id='file-NVaqqbSDZfrq2jEyv1BQwx', bytes=6429, created_at=1753705709, filename='test-34ef34d0dd8da72319d16973fe35edda.jsonl', object='file', purpose='fine-tune', status='processed', expires_at=None, status_details=None)], has_more=False, object='list', first_id='file-EzaaoxpZZA7YmeFCAjBAg9', last_id='file-NVaqqbSDZfrq2jEyv1BQwx')"
            ]
          },
          "metadata": {},
          "execution_count": 9
        }
      ]
    },
    {
      "cell_type": "code",
      "source": [
        "for file in files:\n",
        "  print(file.id)\n",
        "  print(100*\"=\")\n",
        "  print(file.purpose)\n",
        "  print(100*\"=\")\n",
        "  print(file)"
      ],
      "metadata": {
        "colab": {
          "base_uri": "https://localhost:8080/"
        },
        "id": "vl-YMEWpA9xI",
        "outputId": "c9671aeb-b750-43a0-a133-14616e11ecd3"
      },
      "execution_count": 10,
      "outputs": [
        {
          "output_type": "stream",
          "name": "stdout",
          "text": [
            "file-EzaaoxpZZA7YmeFCAjBAg9\n",
            "====================================================================================================\n",
            "fine-tune\n",
            "====================================================================================================\n",
            "FileObject(id='file-EzaaoxpZZA7YmeFCAjBAg9', bytes=6429, created_at=1753709217, filename='test-34ef34d0dd8da72319d16973fe35edda.jsonl', object='file', purpose='fine-tune', status='processed', expires_at=None, status_details=None)\n",
            "file-QL3wXJ75RE6fj9xwLey3LN\n",
            "====================================================================================================\n",
            "fine-tune-results\n",
            "====================================================================================================\n",
            "FileObject(id='file-QL3wXJ75RE6fj9xwLey3LN', bytes=2164, created_at=1753708215, filename='step_metrics.csv', object='file', purpose='fine-tune-results', status='processed', expires_at=None, status_details=None)\n",
            "file-NVaqqbSDZfrq2jEyv1BQwx\n",
            "====================================================================================================\n",
            "fine-tune\n",
            "====================================================================================================\n",
            "FileObject(id='file-NVaqqbSDZfrq2jEyv1BQwx', bytes=6429, created_at=1753705709, filename='test-34ef34d0dd8da72319d16973fe35edda.jsonl', object='file', purpose='fine-tune', status='processed', expires_at=None, status_details=None)\n"
          ]
        }
      ]
    },
    {
      "cell_type": "code",
      "source": [
        "suffix_name=\"Fine tune model\"\n",
        "\n",
        "client.fine_tuning.jobs.create(\n",
        "    training_file=file.id,\n",
        "    model = \"gpt-3.5-turbo\",\n",
        "    suffix = suffix_name\n",
        ")"
      ],
      "metadata": {
        "colab": {
          "base_uri": "https://localhost:8080/"
        },
        "id": "T8uoRiDFBNBd",
        "outputId": "1c70ae80-3230-4aea-acb9-dc5ed9ea6fff"
      },
      "execution_count": 11,
      "outputs": [
        {
          "output_type": "execute_result",
          "data": {
            "text/plain": [
              "FineTuningJob(id='ftjob-RoWcS1cxJJJTdd1NK8z7e7T0', created_at=1753709234, error=Error(code=None, message=None, param=None), fine_tuned_model=None, finished_at=None, hyperparameters=Hyperparameters(batch_size='auto', learning_rate_multiplier='auto', n_epochs='auto'), model='gpt-3.5-turbo-0125', object='fine_tuning.job', organization_id='org-H9IGEcT7RoOzD76IEkBDcORI', result_files=[], seed=234341119, status='validating_files', trained_tokens=None, training_file='file-NVaqqbSDZfrq2jEyv1BQwx', validation_file=None, estimated_finish=None, integrations=[], metadata=None, method=Method(type='supervised', dpo=None, reinforcement=None, supervised=SupervisedMethod(hyperparameters=SupervisedHyperparameters(batch_size='auto', learning_rate_multiplier='auto', n_epochs='auto'))), user_provided_suffix='Fine tune model', usage_metrics=None, shared_with_openai=False, eval_id=None)"
            ]
          },
          "metadata": {},
          "execution_count": 11
        }
      ]
    },
    {
      "cell_type": "code",
      "source": [
        "client.fine_tuning.jobs.list()"
      ],
      "metadata": {
        "colab": {
          "base_uri": "https://localhost:8080/"
        },
        "id": "fMX5Y0XPByuH",
        "outputId": "6c27d34f-ac00-4070-cce0-5c92b7e5bac9"
      },
      "execution_count": 12,
      "outputs": [
        {
          "output_type": "execute_result",
          "data": {
            "text/plain": [
              "SyncCursorPage[FineTuningJob](data=[FineTuningJob(id='ftjob-RoWcS1cxJJJTdd1NK8z7e7T0', created_at=1753709234, error=Error(code=None, message=None, param=None), fine_tuned_model=None, finished_at=None, hyperparameters=Hyperparameters(batch_size='auto', learning_rate_multiplier='auto', n_epochs='auto'), model='gpt-3.5-turbo-0125', object='fine_tuning.job', organization_id='org-H9IGEcT7RoOzD76IEkBDcORI', result_files=[], seed=234341119, status='validating_files', trained_tokens=None, training_file='file-NVaqqbSDZfrq2jEyv1BQwx', validation_file=None, estimated_finish=None, integrations=[], metadata=None, method=Method(type='supervised', dpo=None, reinforcement=None, supervised=SupervisedMethod(hyperparameters=SupervisedHyperparameters(batch_size='auto', learning_rate_multiplier='auto', n_epochs='auto'))), user_provided_suffix='Fine tune model', usage_metrics=None, shared_with_openai=False, eval_id=None), FineTuningJob(id='ftjob-8eQH56XkO7BoCTyHkjl6kqi7', created_at=1753706180, error=Error(code=None, message=None, param=None), fine_tuned_model='ft:gpt-3.5-turbo-0125:personal:fine-tune-model:ByHhIUgd', finished_at=1753707404, hyperparameters=Hyperparameters(batch_size=1, learning_rate_multiplier=2.0, n_epochs=10), model='gpt-3.5-turbo-0125', object='fine_tuning.job', organization_id='org-H9IGEcT7RoOzD76IEkBDcORI', result_files=['file-QL3wXJ75RE6fj9xwLey3LN'], seed=1733258802, status='succeeded', trained_tokens=10730, training_file='file-NVaqqbSDZfrq2jEyv1BQwx', validation_file=None, estimated_finish=None, integrations=[], metadata=None, method=Method(type='supervised', dpo=None, reinforcement=None, supervised=SupervisedMethod(hyperparameters=SupervisedHyperparameters(batch_size=1, learning_rate_multiplier=2.0, n_epochs=10))), user_provided_suffix='Fine tune model', usage_metrics=None, shared_with_openai=False, eval_id=None)], has_more=False, object='list')"
            ]
          },
          "metadata": {},
          "execution_count": 12
        }
      ]
    },
    {
      "cell_type": "code",
      "source": [
        "for job in client.fine_tuning.jobs.list():\n",
        "  print(job.fine_tuned_model)"
      ],
      "metadata": {
        "colab": {
          "base_uri": "https://localhost:8080/"
        },
        "id": "wukI_21sCy0c",
        "outputId": "172493d3-3cf3-4a7f-e71e-17c84c9cd02c"
      },
      "execution_count": 13,
      "outputs": [
        {
          "output_type": "stream",
          "name": "stdout",
          "text": [
            "None\n",
            "ft:gpt-3.5-turbo-0125:personal:fine-tune-model:ByHhIUgd\n"
          ]
        }
      ]
    },
    {
      "cell_type": "code",
      "source": [
        "ans = client.chat.completions.create(\n",
        "    model = \"ft:gpt-3.5-turbo-0125:personal:fine-tune-model:ByHhIUgd\",\n",
        "    messages=[\n",
        "        {\"role\":\"system\",\"content\":\"You are a research assistant\"},\n",
        "        {\n",
        "            \"role\": \"user\",\n",
        "            \"content\": \"What warranty does a smartphone come with\"\n",
        "        }\n",
        "    ]\n",
        "\n",
        ")"
      ],
      "metadata": {
        "id": "U1_e3jLvC7xX"
      },
      "execution_count": 17,
      "outputs": []
    },
    {
      "cell_type": "code",
      "source": [
        "print(ans.choices[0].message.content)"
      ],
      "metadata": {
        "colab": {
          "base_uri": "https://localhost:8080/"
        },
        "id": "0-a48IpLQroF",
        "outputId": "97d2a891-ff6a-4d4f-b8d4-f96478ea50dc"
      },
      "execution_count": 18,
      "outputs": [
        {
          "output_type": "stream",
          "name": "stdout",
          "text": [
            "Warranties for smartphones can vary by manufacturer and model, but they typically come with a one-year limited warranty covering manufacturer defects. Additionally, some manufacturers offer extended warranty options for purchase. For specific warranty information, it is best to refer to the official website or documentation provided with the smartphone.\n"
          ]
        }
      ]
    },
    {
      "cell_type": "code",
      "source": [],
      "metadata": {
        "id": "Q_JJfsLzRP1L"
      },
      "execution_count": null,
      "outputs": []
    }
  ]
}